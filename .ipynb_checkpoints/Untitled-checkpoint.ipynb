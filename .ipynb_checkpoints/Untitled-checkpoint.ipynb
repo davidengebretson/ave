{
 "cells": [
  {
   "metadata": {},
   "cell_type": "raw",
   "source": "",
   "id": "18e417fb4cdc4091"
  }
 ],
 "metadata": {},
 "nbformat": 4,
 "nbformat_minor": 5
}
